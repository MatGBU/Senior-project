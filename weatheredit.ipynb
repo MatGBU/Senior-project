{
 "cells": [
  {
   "cell_type": "code",
   "execution_count": 1,
   "metadata": {},
   "outputs": [
    {
     "name": "stdout",
     "output_type": "stream",
     "text": [
      "Weather data from 2022-10-01 to 2023-10-01 has been appended to '2022weather.csv'\n"
     ]
    }
   ],
   "source": [
    "import requests\n",
    "import csv\n",
    "import pandas as pd\n",
    "from datetime import datetime, timedelta\n",
    "\n",
    "# File path for the existing weather data\n",
    "csv_filename = '2022weather.csv'\n",
    "\n",
    "# Step 2: Perform the API request from the latest date to today's date\n",
    "def fetch_weather_data(start_date, end_date, output_file):\n",
    "    # Format the dates for the API request (YYYY-MM-DD)\n",
    "    start_date_str = start_date.strftime('%Y-%m-%d')\n",
    "    end_date_str = end_date.strftime('%Y-%m-%d')\n",
    "\n",
    "    # Weather API URL with dynamic dates\n",
    "    url = f\"https://weather.visualcrossing.com/VisualCrossingWebServices/rest/services/timeline/Boston%2CUnited%20States/{start_date_str}/{end_date_str}?unitGroup=us&elements=datetime%2Ctemp%2Cdew%2Chumidity%2Cprecip%2Cpreciptype%2Csnow%2Csnowdepth%2Cwindgust%2Cwindspeed%2Cwinddir%2Cpressure%2Ccloudcover%2Csolarradiation%2Csolarenergy%2Cuvindex%2Csevererisk&include=hours&key=SRGBWC4W94EFX6RMJXBC4L6EN&contentType=csv\"\n",
    "    \n",
    "    response = requests.get(url)\n",
    "\n",
    "    if response.status_code != 200:\n",
    "        print('Unexpected Status code:', response.status_code)\n",
    "        return\n",
    "\n",
    "    # Append the new data to the existing CSV file\n",
    "    with open(output_file, mode='a', newline='') as file:  # Open in append mode\n",
    "        writer = csv.writer(file)\n",
    "        csv_reader = csv.reader(response.text.splitlines(), delimiter=',', quotechar='\"')\n",
    "\n",
    "        # Skip the first row (header)\n",
    "        next(csv_reader)\n",
    "\n",
    "        # Write the remaining rows to the file\n",
    "        for row in csv_reader:\n",
    "            writer.writerow(row)\n",
    "\n",
    "    print(f\"Weather data from {start_date_str} to {end_date_str} has been appended to '{output_file}'\")\n",
    "# Step 3: Main function to coordinate the process\n",
    "def main():\n",
    "    # Get today's date\n",
    "    \n",
    "    start_date = datetime.strptime('20221001', '%Y%m%d')\n",
    "    today = datetime.strptime('20231001', '%Y%m%d')\n",
    "    fetch_weather_data(start_date, today, csv_filename)\n",
    "\n",
    "\n",
    "# Run the main function\n",
    "if __name__ == \"__main__\":\n",
    "    main()\n"
   ]
  }
 ],
 "metadata": {
  "kernelspec": {
   "display_name": "Python 3.10.6 64-bit",
   "language": "python",
   "name": "python3"
  },
  "language_info": {
   "codemirror_mode": {
    "name": "ipython",
    "version": 3
   },
   "file_extension": ".py",
   "mimetype": "text/x-python",
   "name": "python",
   "nbconvert_exporter": "python",
   "pygments_lexer": "ipython3",
   "version": "3.10.6"
  },
  "vscode": {
   "interpreter": {
    "hash": "7e1998ff7f8aa20ada591c520b972326324e5ea05489af9e422744c7c09f6dad"
   }
  }
 },
 "nbformat": 4,
 "nbformat_minor": 2
}
