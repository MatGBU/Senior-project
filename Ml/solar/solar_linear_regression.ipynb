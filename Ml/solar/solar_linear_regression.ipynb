{
 "cells": [
  {
   "cell_type": "markdown",
   "metadata": {},
   "source": [
    "## Solar Prediction - Linear Regression"
   ]
  },
  {
   "cell_type": "code",
   "execution_count": 70,
   "metadata": {},
   "outputs": [],
   "source": [
    "import pandas as pd\n",
    "from sklearn.model_selection import train_test_split\n",
    "from sklearn.tree import DecisionTreeRegressor\n",
    "from sklearn.metrics import mean_squared_error\n",
    "import matplotlib.pyplot as plt\n",
    "import numpy as np\n",
    "from sklearn.linear_model import LinearRegression\n",
    "\n",
    "# Load the data\n",
    "data = pd.read_csv('/Users/ben/Desktop/Senior-project/Final_Merged_Energy_and_Weather_Data.csv')        # change path to run...\n"
   ]
  },
  {
   "cell_type": "code",
   "execution_count": 71,
   "metadata": {},
   "outputs": [],
   "source": [
    "# Create lagged features for past solar output (lag 1 and lag 2)\n",
    "data['solar_output_lag1'] = data['Solar'].shift(1)\n",
    "data['solar_output_lag2'] = data['Solar'].shift(2)\n",
    "data['solar_output_lag3'] = data['Solar'].shift(3)\n",
    "\n",
    "# Drop any rows with missing values due to lagging\n",
    "data.dropna(inplace=True)\n",
    "\n",
    "\n"
   ]
  },
  {
   "cell_type": "code",
   "execution_count": 72,
   "metadata": {},
   "outputs": [
    {
     "name": "stdout",
     "output_type": "stream",
     "text": [
      "Linear Regression RMSE: 20.215856279660613\n"
     ]
    }
   ],
   "source": [
    "\n",
    "# Define features and target (same as in your decision tree)\n",
    "# 'temp', 'solarradiation',\n",
    "features = ['uvindex', 'precip',  'solarenergy', 'solar_output_lag1', 'solar_output_lag2', 'snow', 'cloudcover', 'humidity']\n",
    "X = data[features]\n",
    "y = data['Solar']\n",
    "\n",
    "# Split the data into training and testing sets (80/20 split)\n",
    "X_train, X_test, y_train, y_test = train_test_split(X, y, test_size=0.22, shuffle=True)\n",
    "\n",
    "# Initialize and train the Linear Regression model\n",
    "linear_model = LinearRegression()\n",
    "linear_model.fit(X_train, y_train)\n",
    "\n",
    "# Make predictions on the test set\n",
    "y_pred_linear = linear_model.predict(X_test)\n",
    "\n",
    "# Calculate RMSE to evaluate performance\n",
    "rmse_linear = np.sqrt(mean_squared_error(y_test, y_pred_linear))\n",
    "print(f'Linear Regression RMSE: {rmse_linear}')\n",
    "\n",
    "# # Plot Actual vs Predicted Solar Output (for Linear Regression)\n",
    "# plt.figure(figsize=(50, 6))\n",
    "# plt.plot(y_test.index, y_test, label='Actual Solar Output')\n",
    "# plt.plot(y_test.index, y_pred_linear, label='Predicted Solar Output (Linear)', color='green')\n",
    "# plt.gca().xaxis.set_major_formatter(mdates.DateFormatter('%Y-%m-%d %H:%M'))\n",
    "# plt.gca().xaxis.set_major_locator(mdates.DayLocator(interval=1))  # Tick marks every day\n",
    "# plt.gcf().autofmt_xdate()  # Rotate the dates for better readability\n",
    "# plt.legend()\n",
    "# plt.title('Linear Regression: Actual vs Predicted Solar Output (Every 5 minutes)')\n",
    "# plt.xlabel('Time')\n",
    "# plt.ylabel('Solar Output')\n",
    "# plt.show()\n",
    "\n",
    "# Export results to CSV\n",
    "results_linear = pd.DataFrame({\n",
    "    'Time': y_test.index,\n",
    "    'Actual Solar Output': y_test,\n",
    "    'Predicted Solar Output (Linear)': y_pred_linear\n",
    "})\n",
    "\n",
    "# Save to CSV file\n",
    "results_linear.to_csv('predicted_solar_output_linear.csv', index=False)\n"
   ]
  },
  {
   "cell_type": "code",
   "execution_count": 73,
   "metadata": {},
   "outputs": [
    {
     "name": "stdout",
     "output_type": "stream",
     "text": [
      "uvindex: -5.770897439069808\n",
      "precip: -53.68988174502697\n",
      "solarenergy: 31.168687171740885\n",
      "solar_output_lag1: 0.9973555156756575\n",
      "solar_output_lag2: -0.03807318450000707\n",
      "snow: 1.7763568394002505e-14\n",
      "cloudcover: -0.42651716846727683\n",
      "humidity: -0.3552410012325994\n"
     ]
    }
   ],
   "source": [
    "coef = zip(X.columns, linear_model.coef_)\n",
    "for feature, coeff in coef:\n",
    "    print(f\"{feature}: {coeff}\")"
   ]
  },
  {
   "cell_type": "code",
   "execution_count": null,
   "metadata": {},
   "outputs": [],
   "source": []
  }
 ],
 "metadata": {
  "kernelspec": {
   "display_name": "bfx",
   "language": "python",
   "name": "python3"
  },
  "language_info": {
   "codemirror_mode": {
    "name": "ipython",
    "version": 3
   },
   "file_extension": ".py",
   "mimetype": "text/x-python",
   "name": "python",
   "nbconvert_exporter": "python",
   "pygments_lexer": "ipython3",
   "version": "3.9.19"
  }
 },
 "nbformat": 4,
 "nbformat_minor": 2
}
