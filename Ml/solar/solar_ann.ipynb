{
 "cells": [
  {
   "cell_type": "markdown",
   "metadata": {},
   "source": [
    "# Solar ANN "
   ]
  },
  {
   "cell_type": "markdown",
   "metadata": {},
   "source": [
    "### Load and preprocess data"
   ]
  },
  {
   "cell_type": "code",
   "execution_count": 6,
   "metadata": {},
   "outputs": [
    {
     "name": "stdout",
     "output_type": "stream",
     "text": [
      "Features shape:  (8076, 12)\n",
      "Target shape:  (8076,)\n"
     ]
    }
   ],
   "source": [
    "import pandas as pd\n",
    "from sklearn.model_selection import train_test_split\n",
    "from sklearn.preprocessing import StandardScaler\n",
    "import tensorflow as tf\n",
    "\n",
    "data = pd.read_csv('/Users/ben/Desktop/Senior-project/Final_Merged_Energy_and_Weather_Data.csv')\n",
    "data = data.fillna(0)\n",
    "\n",
    "features = data[['temp', 'feelslike', 'dew', 'humidity', 'precip', 'precipprob', 'windgust', \n",
    "            'windspeed', 'winddir', 'sealevelpressure', 'cloudcover', 'solarradiation']]\n",
    "target = data['solarenergy']\n",
    "\n",
    "print(\"Features shape: \", features.shape)\n",
    "print('Target shape: ', target.shape)\n",
    "\n",
    "X_train, X_test, y_train, y_test = train_test_split(features, target, test_size=0.2, random_state=42)\n",
    "\n",
    "scalar = StandardScaler()\n",
    "X_train = scalar.fit_transform(X_train)\n",
    "X_test = scalar.transform(X_test)"
   ]
  },
  {
   "cell_type": "markdown",
   "metadata": {},
   "source": [
    "### Build the ANN"
   ]
  },
  {
   "cell_type": "code",
   "execution_count": 8,
   "metadata": {},
   "outputs": [
    {
     "name": "stdout",
     "output_type": "stream",
     "text": [
      "Epoch 1/50\n",
      "162/162 [==============================] - 3s 5ms/step - loss: 0.0691 - val_loss: 0.0031\n",
      "Epoch 2/50\n",
      "162/162 [==============================] - 0s 2ms/step - loss: 0.0021 - val_loss: 0.0013\n",
      "Epoch 3/50\n",
      "162/162 [==============================] - 0s 2ms/step - loss: 0.0010 - val_loss: 8.7311e-04\n",
      "Epoch 4/50\n",
      "162/162 [==============================] - 0s 2ms/step - loss: 8.2811e-04 - val_loss: 7.4801e-04\n",
      "Epoch 5/50\n",
      "162/162 [==============================] - 0s 2ms/step - loss: 5.4913e-04 - val_loss: 5.3302e-04\n",
      "Epoch 6/50\n",
      "162/162 [==============================] - 0s 2ms/step - loss: 5.5991e-04 - val_loss: 5.2637e-04\n",
      "Epoch 7/50\n",
      "162/162 [==============================] - 0s 2ms/step - loss: 5.6565e-04 - val_loss: 0.0011\n",
      "Epoch 8/50\n",
      "162/162 [==============================] - 0s 2ms/step - loss: 8.0572e-04 - val_loss: 3.9942e-04\n",
      "Epoch 9/50\n",
      "162/162 [==============================] - 0s 2ms/step - loss: 3.5437e-04 - val_loss: 2.6558e-04\n",
      "Epoch 10/50\n",
      "162/162 [==============================] - 0s 2ms/step - loss: 2.5181e-04 - val_loss: 2.4504e-04\n",
      "Epoch 11/50\n",
      "162/162 [==============================] - 0s 2ms/step - loss: 2.3159e-04 - val_loss: 2.4761e-04\n",
      "Epoch 12/50\n",
      "162/162 [==============================] - 0s 2ms/step - loss: 1.8440e-04 - val_loss: 1.9749e-04\n",
      "Epoch 13/50\n",
      "162/162 [==============================] - 0s 2ms/step - loss: 8.2150e-04 - val_loss: 0.0011\n",
      "Epoch 14/50\n",
      "162/162 [==============================] - 0s 2ms/step - loss: 8.5060e-04 - val_loss: 6.4438e-04\n",
      "Epoch 15/50\n",
      "162/162 [==============================] - 0s 2ms/step - loss: 5.8050e-04 - val_loss: 2.8176e-04\n",
      "Epoch 16/50\n",
      "162/162 [==============================] - 0s 2ms/step - loss: 3.6147e-04 - val_loss: 1.6026e-04\n",
      "Epoch 17/50\n",
      "162/162 [==============================] - 0s 2ms/step - loss: 2.9073e-04 - val_loss: 1.8094e-04\n",
      "Epoch 18/50\n",
      "162/162 [==============================] - 0s 2ms/step - loss: 1.2803e-04 - val_loss: 1.4667e-04\n",
      "Epoch 19/50\n",
      "162/162 [==============================] - 0s 2ms/step - loss: 1.9384e-04 - val_loss: 1.0457e-04\n",
      "Epoch 20/50\n",
      "162/162 [==============================] - 0s 2ms/step - loss: 2.7529e-04 - val_loss: 3.7084e-04\n",
      "Epoch 21/50\n",
      "162/162 [==============================] - 0s 2ms/step - loss: 2.1860e-04 - val_loss: 1.7242e-04\n",
      "Epoch 22/50\n",
      "162/162 [==============================] - 0s 2ms/step - loss: 1.3326e-04 - val_loss: 1.6205e-04\n",
      "Epoch 23/50\n",
      "162/162 [==============================] - 0s 2ms/step - loss: 1.9391e-04 - val_loss: 3.4811e-04\n",
      "Epoch 24/50\n",
      "162/162 [==============================] - 0s 2ms/step - loss: 6.0303e-04 - val_loss: 3.2470e-04\n",
      "Epoch 25/50\n",
      "162/162 [==============================] - 0s 2ms/step - loss: 4.0727e-04 - val_loss: 3.0407e-04\n",
      "Epoch 26/50\n",
      "162/162 [==============================] - 0s 2ms/step - loss: 5.8576e-04 - val_loss: 5.5005e-04\n",
      "Epoch 27/50\n",
      "162/162 [==============================] - 0s 2ms/step - loss: 2.6487e-04 - val_loss: 9.7164e-05\n",
      "Epoch 28/50\n",
      "162/162 [==============================] - 0s 2ms/step - loss: 1.3250e-04 - val_loss: 1.1288e-04\n",
      "Epoch 29/50\n",
      "162/162 [==============================] - 0s 2ms/step - loss: 1.6016e-04 - val_loss: 2.3938e-04\n",
      "Epoch 30/50\n",
      "162/162 [==============================] - 0s 3ms/step - loss: 1.8265e-04 - val_loss: 1.5773e-04\n",
      "Epoch 31/50\n",
      "162/162 [==============================] - 0s 2ms/step - loss: 2.2811e-04 - val_loss: 4.2865e-04\n",
      "Epoch 32/50\n",
      "162/162 [==============================] - 0s 2ms/step - loss: 2.6283e-04 - val_loss: 1.9210e-04\n",
      "Epoch 33/50\n",
      "162/162 [==============================] - 0s 2ms/step - loss: 2.7721e-04 - val_loss: 1.5028e-04\n",
      "Epoch 34/50\n",
      "162/162 [==============================] - 0s 2ms/step - loss: 1.7397e-04 - val_loss: 2.3557e-04\n",
      "Epoch 35/50\n",
      "162/162 [==============================] - 0s 2ms/step - loss: 5.6564e-04 - val_loss: 3.2927e-04\n",
      "Epoch 36/50\n",
      "162/162 [==============================] - 0s 2ms/step - loss: 2.9762e-04 - val_loss: 2.4079e-04\n",
      "Epoch 37/50\n",
      "162/162 [==============================] - 0s 2ms/step - loss: 1.1631e-04 - val_loss: 1.2925e-04\n",
      "Epoch 38/50\n",
      "162/162 [==============================] - 0s 2ms/step - loss: 1.6897e-04 - val_loss: 3.1978e-04\n",
      "Epoch 39/50\n",
      "162/162 [==============================] - 0s 2ms/step - loss: 4.6333e-04 - val_loss: 9.3380e-04\n",
      "Epoch 40/50\n",
      "162/162 [==============================] - 0s 2ms/step - loss: 5.4475e-04 - val_loss: 4.0792e-04\n",
      "Epoch 41/50\n",
      "162/162 [==============================] - 0s 2ms/step - loss: 1.3957e-04 - val_loss: 7.2716e-05\n",
      "Epoch 42/50\n",
      "162/162 [==============================] - 0s 2ms/step - loss: 1.3837e-04 - val_loss: 5.9920e-05\n",
      "Epoch 43/50\n",
      "162/162 [==============================] - 0s 2ms/step - loss: 1.1982e-04 - val_loss: 8.8230e-05\n",
      "Epoch 44/50\n",
      "162/162 [==============================] - 0s 2ms/step - loss: 2.1477e-04 - val_loss: 6.8088e-04\n",
      "Epoch 45/50\n",
      "162/162 [==============================] - 0s 3ms/step - loss: 3.2004e-04 - val_loss: 8.9215e-05\n",
      "Epoch 46/50\n",
      "162/162 [==============================] - 0s 3ms/step - loss: 3.2178e-04 - val_loss: 2.4324e-04\n",
      "Epoch 47/50\n",
      "162/162 [==============================] - 1s 3ms/step - loss: 3.9850e-04 - val_loss: 3.2573e-04\n",
      "Epoch 48/50\n",
      "162/162 [==============================] - 0s 2ms/step - loss: 6.2099e-04 - val_loss: 5.7537e-04\n",
      "Epoch 49/50\n",
      "162/162 [==============================] - 0s 3ms/step - loss: 2.8201e-04 - val_loss: 1.0840e-04\n",
      "Epoch 50/50\n",
      "162/162 [==============================] - 0s 2ms/step - loss: 1.4457e-04 - val_loss: 2.0135e-04\n",
      "51/51 [==============================] - 0s 1ms/step - loss: 2.1156e-04\n",
      "Test Loss: 0.0002115632378263399\n"
     ]
    }
   ],
   "source": [
    "model = tf.keras.models.Sequential([\n",
    "    tf.keras.layers.Dense(128, activation='relu', input_shape=(X_train.shape[1],)),\n",
    "    tf.keras.layers.Dense(64, activation='relu'), \n",
    "    tf.keras.layers.Dense(32, activation='relu'),\n",
    "    tf.keras.layers.Dense(1)\n",
    "])\n",
    "\n",
    "model.compile(optimizer='adam', loss='mean_squared_error')\n",
    "\n",
    "history = model.fit(X_train, y_train, epochs=50, validation_split=0.2, batch_size=32)\n",
    "\n",
    "test_loss = model.evaluate(X_test, y_test)\n",
    "print(f'Test Loss: {test_loss}')"
   ]
  },
  {
   "cell_type": "markdown",
   "metadata": {},
   "source": [
    "### Analysis"
   ]
  },
  {
   "cell_type": "code",
   "execution_count": 9,
   "metadata": {},
   "outputs": [
    {
     "data": {
      "image/png": "[encoded data removed]",
      "text/plain": [
       "<Figure size 640x480 with 1 Axes>"
      ]
     },
     "metadata": {},
     "output_type": "display_data"
    }
   ],
   "source": [
    "import matplotlib.pyplot as plt\n",
    "\n",
    "plt.plot(history.history['loss'], label='Training Loss')\n",
    "plt.plot(history.history['val_loss'], label='Validation Loss')\n",
    "plt.title('Model Loss')\n",
    "plt.ylabel('Loss')\n",
    "plt.xlabel('Epoch')\n",
    "plt.legend()\n",
    "plt.show()"
   ]
  },
  {
   "cell_type": "markdown",
   "metadata": {},
   "source": [
    "### Make predictions"
   ]
  },
  {
   "cell_type": "code",
   "execution_count": 10,
   "metadata": {},
   "outputs": [
    {
     "name": "stdout",
     "output_type": "stream",
     "text": [
      "51/51 [==============================] - 0s 2ms/step\n",
      "Predicted Solar Energy Ouput: [[2.9152259e-05]\n",
      " [2.5970690e+00]\n",
      " [2.0515741e-01]\n",
      " [4.2778961e-03]\n",
      " [8.7871701e-03]]\n",
      "Actual Solar Energy Output: [0.  2.6 0.2 0.  0. ]\n"
     ]
    }
   ],
   "source": [
    "predictions = model.predict(X_test)\n",
    "\n",
    "print(f'Predicted Solar Energy Ouput: {predictions[:5]}')\n",
    "print(f'Actual Solar Energy Output: {y_test[:5].values}')"
   ]
  },
  {
   "cell_type": "markdown",
   "metadata": {},
   "source": [
    "### Save model"
   ]
  },
  {
   "cell_type": "code",
   "execution_count": 12,
   "metadata": {},
   "outputs": [],
   "source": [
    "model.save('SolarModel.h5')"
   ]
  },
  {
   "cell_type": "code",
   "execution_count": null,
   "metadata": {},
   "outputs": [],
   "source": []
  }
 ],
 "metadata": {
  "kernelspec": {
   "display_name": "bfx",
   "language": "python",
   "name": "python3"
  },
  "language_info": {
   "codemirror_mode": {
    "name": "ipython",
    "version": 3
   },
   "file_extension": ".py",
   "mimetype": "text/x-python",
   "name": "python",
   "nbconvert_exporter": "python",
   "pygments_lexer": "ipython3",
   "version": "3.9.19"
  }
 },
 "nbformat": 4,
 "nbformat_minor": 2
}
