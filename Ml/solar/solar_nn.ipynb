{
 "cells": [
  {
   "cell_type": "markdown",
   "metadata": {},
   "source": [
    "# Neural Network to predict Solar output"
   ]
  },
  {
   "cell_type": "code",
   "execution_count": 4,
   "metadata": {},
   "outputs": [],
   "source": [
    "import tensorflow as tf\n",
    "from tensorflow.keras.models import Sequential\n",
    "from tensorflow.keras.layers import Dense\n",
    "from sklearn.model_selection import train_test_split\n",
    "from sklearn.preprocessing import StandardScaler\n",
    "import numpy as np\n",
    "import pandas as pd\n",
    "\n"
   ]
  },
  {
   "cell_type": "code",
   "execution_count": 5,
   "metadata": {},
   "outputs": [],
   "source": [
    "path = '/Users/ben/Desktop/Senior-project/Final_Merged_Energy_and_Weather_Data.csv'\n",
    "data = pd.read_csv(path)\n",
    " "
   ]
  },
  {
   "cell_type": "code",
   "execution_count": 6,
   "metadata": {},
   "outputs": [],
   "source": [
    "features = ['cloudcover', 'uvindex', 'visibility', 'sealevelpressure', 'solarradiation']\n",
    "clean_data = data.dropna(subset=features + ['solarenergy'])\n",
    "\n",
    "X = clean_data[features]\n",
    "y = clean_data['solarenergy']\n",
    "\n",
    "X_train, X_test, y_train, y_test = train_test_split(X, y, test_size=0.2, random_state=42)\n",
    "\n",
    "scaler = StandardScaler()\n",
    "X_train_scaled = scaler.fit_transform(X_train)\n",
    "X_test_scaled = scaler.transform(X_test)\n",
    "\n"
   ]
  },
  {
   "cell_type": "code",
   "execution_count": 7,
   "metadata": {},
   "outputs": [
    {
     "name": "stdout",
     "output_type": "stream",
     "text": [
      "Epoch 1/20\n",
      "162/162 [==============================] - 1s 3ms/step - loss: 0.0757 - val_loss: 0.0035\n",
      "Epoch 2/20\n",
      "162/162 [==============================] - 0s 2ms/step - loss: 0.0028 - val_loss: 0.0018\n",
      "Epoch 3/20\n",
      "162/162 [==============================] - 0s 2ms/step - loss: 0.0016 - val_loss: 0.0011\n",
      "Epoch 4/20\n",
      "162/162 [==============================] - 0s 2ms/step - loss: 0.0011 - val_loss: 8.6042e-04\n",
      "Epoch 5/20\n",
      "162/162 [==============================] - 0s 2ms/step - loss: 8.3775e-04 - val_loss: 7.6770e-04\n",
      "Epoch 6/20\n",
      "162/162 [==============================] - 0s 2ms/step - loss: 7.0233e-04 - val_loss: 6.4687e-04\n",
      "Epoch 7/20\n",
      "162/162 [==============================] - 0s 2ms/step - loss: 6.2718e-04 - val_loss: 6.4930e-04\n",
      "Epoch 8/20\n",
      "162/162 [==============================] - 0s 2ms/step - loss: 5.7242e-04 - val_loss: 5.8183e-04\n",
      "Epoch 9/20\n",
      "162/162 [==============================] - 0s 3ms/step - loss: 5.4942e-04 - val_loss: 4.9644e-04\n",
      "Epoch 10/20\n",
      "162/162 [==============================] - 0s 2ms/step - loss: 5.3254e-04 - val_loss: 5.1526e-04\n",
      "Epoch 11/20\n",
      "162/162 [==============================] - 0s 2ms/step - loss: 4.8822e-04 - val_loss: 4.9860e-04\n",
      "Epoch 12/20\n",
      "162/162 [==============================] - 0s 2ms/step - loss: 5.1408e-04 - val_loss: 4.9527e-04\n",
      "Epoch 13/20\n",
      "162/162 [==============================] - 0s 2ms/step - loss: 4.8190e-04 - val_loss: 5.4723e-04\n",
      "Epoch 14/20\n",
      "162/162 [==============================] - 0s 2ms/step - loss: 4.7663e-04 - val_loss: 4.3668e-04\n",
      "Epoch 15/20\n",
      "162/162 [==============================] - 0s 2ms/step - loss: 4.5559e-04 - val_loss: 5.0874e-04\n",
      "Epoch 16/20\n",
      "162/162 [==============================] - 0s 2ms/step - loss: 4.5330e-04 - val_loss: 4.7594e-04\n",
      "Epoch 17/20\n",
      "162/162 [==============================] - 0s 2ms/step - loss: 4.4568e-04 - val_loss: 5.1202e-04\n",
      "Epoch 18/20\n",
      "162/162 [==============================] - 0s 2ms/step - loss: 4.6208e-04 - val_loss: 5.5116e-04\n",
      "Epoch 19/20\n",
      "162/162 [==============================] - 0s 2ms/step - loss: 4.5720e-04 - val_loss: 4.0089e-04\n",
      "Epoch 20/20\n",
      "162/162 [==============================] - 0s 2ms/step - loss: 4.5459e-04 - val_loss: 3.8269e-04\n",
      "51/51 [==============================] - 0s 1ms/step - loss: 3.8822e-04\n",
      "loss: 0.00038821613998152316\n"
     ]
    }
   ],
   "source": [
    "model = Sequential([\n",
    "    Dense(64, activation='relu', input_shape=(X_train_scaled.shape[1],)),\n",
    "    Dense(32, activation='relu'),\n",
    "    Dense(1)\n",
    "])\n",
    "\n",
    "model.compile(optimizer='adam', loss='mean_squared_error')\n",
    "\n",
    "history = model.fit(X_train_scaled, y_train, epochs=20, batch_size=32, validation_split=0.2, verbose=1)\n",
    "test_loss = model.evaluate(X_test_scaled, y_test, verbose=1)\n",
    "print(f\"loss: {test_loss}\")"
   ]
  },
  {
   "cell_type": "code",
   "execution_count": null,
   "metadata": {},
   "outputs": [],
   "source": []
  }
 ],
 "metadata": {
  "kernelspec": {
   "display_name": "bfx",
   "language": "python",
   "name": "python3"
  },
  "language_info": {
   "codemirror_mode": {
    "name": "ipython",
    "version": 3
   },
   "file_extension": ".py",
   "mimetype": "text/x-python",
   "name": "python",
   "nbconvert_exporter": "python",
   "pygments_lexer": "ipython3",
   "version": "3.9.19"
  }
 },
 "nbformat": 4,
 "nbformat_minor": 2
}
