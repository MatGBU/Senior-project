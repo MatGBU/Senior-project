{
 "cells": [
  {
   "cell_type": "code",
   "execution_count": 2,
   "metadata": {},
   "outputs": [
    {
     "name": "stdout",
     "output_type": "stream",
     "text": [
      "Fetching data for 20241203...\n",
      "Requesting URL: https://webservices.iso-ne.com/api/v1.1//hourlyloadforecast/day/20241203\n",
      "Fetching data for 20241204...\n",
      "Requesting URL: https://webservices.iso-ne.com/api/v1.1//hourlyloadforecast/day/20241204\n",
      "Data saved to hourly_load_forecast.csv\n"
     ]
    }
   ],
   "source": [
    "import requests\n",
    "import xml.etree.ElementTree as ET\n",
    "import csv\n",
    "from datetime import datetime, timedelta\n",
    "\n",
    "# API Credentials\n",
    "username = 'alean@bu.edu'\n",
    "password = 'Mq75eg8pxTBCEKY'\n",
    "\n",
    "# API Base URL\n",
    "base_url = \"https://webservices.iso-ne.com/api/v1.1//hourlyloadforecast/day/\"\n",
    "\n",
    "# Function to query API and fetch data\n",
    "def fetch_data(date):\n",
    "    url = f\"{base_url}{date}\"\n",
    "    print(f\"Requesting URL: {url}\")\n",
    "    response = requests.get(url, auth=(username, password))\n",
    "    if response.status_code == 200:\n",
    "        return response.text\n",
    "    else:\n",
    "        print(f\"Error fetching data for {date}: {response.status_code}, {response.text}\")\n",
    "        return None\n",
    "\n",
    "# Function to parse XML and save to CSV\n",
    "def parse_and_save_to_csv(xml_data, csv_file):\n",
    "    # Parse the XML data\n",
    "    root = ET.fromstring(xml_data)\n",
    "\n",
    "    # Extract the namespace from the XML\n",
    "    namespace = {'ns': 'http://WEBSERV.iso-ne.com'}\n",
    "\n",
    "    # Find all HourlyLoadForecast elements\n",
    "    forecast_entries = root.findall('ns:HourlyLoadForecast', namespace)\n",
    "\n",
    "    # Open the CSV file for writing\n",
    "    with open(csv_file, mode='a', newline='', encoding='utf-8') as file:\n",
    "        writer = csv.writer(file)\n",
    "\n",
    "        # Write the header if the file is empty\n",
    "        if file.tell() == 0:\n",
    "            writer.writerow([\"BeginDate\", \"LoadMw\"])\n",
    "\n",
    "        # Write each forecast entry to the CSV\n",
    "        for entry in forecast_entries:\n",
    "            begin_date = safe_find_text(entry, 'ns:BeginDate', namespace)\n",
    "            load_mw = safe_find_text(entry, 'ns:LoadMw', namespace)\n",
    "\n",
    "            # Skip rows with missing required data\n",
    "            if begin_date is None or load_mw is None:\n",
    "                print(f\"Skipping entry due to missing data: {entry}\")\n",
    "                continue\n",
    "\n",
    "            writer.writerow([begin_date, load_mw])\n",
    "\n",
    "# Helper function to safely extract text\n",
    "def safe_find_text(element, tag, namespace):\n",
    "    found = element.find(tag, namespace)\n",
    "    return found.text if found is not None else None\n",
    "\n",
    "# Main function to iterate over dates and process data\n",
    "def main(start_date, end_date, csv_file):\n",
    "    current_date = start_date\n",
    "    while current_date <= end_date:\n",
    "        formatted_date = current_date.strftime(\"%Y%m%d\")\n",
    "        print(f\"Fetching data for {formatted_date}...\")\n",
    "        xml_data = fetch_data(formatted_date)\n",
    "        if xml_data:\n",
    "            parse_and_save_to_csv(xml_data, csv_file)\n",
    "        current_date += timedelta(days=1)\n",
    "    print(f\"Data saved to {csv_file}\")\n",
    "\n",
    "# Specify date range and output CSV file\n",
    "start_date = datetime(2024, 12, 3)  # Start date\n",
    "end_date = datetime(2024, 12, 4)    # End date\n",
    "csv_file = \"hourly_load_forecast.csv\"\n",
    "\n",
    "# Run the script\n",
    "main(start_date, end_date, csv_file)\n"
   ]
  }
 ],
 "metadata": {
  "kernelspec": {
   "display_name": "Python 3.10.6 64-bit",
   "language": "python",
   "name": "python3"
  },
  "language_info": {
   "codemirror_mode": {
    "name": "ipython",
    "version": 3
   },
   "file_extension": ".py",
   "mimetype": "text/x-python",
   "name": "python",
   "nbconvert_exporter": "python",
   "pygments_lexer": "ipython3",
   "version": "3.10.6"
  },
  "orig_nbformat": 4,
  "vscode": {
   "interpreter": {
    "hash": "7e1998ff7f8aa20ada591c520b972326324e5ea05489af9e422744c7c09f6dad"
   }
  }
 },
 "nbformat": 4,
 "nbformat_minor": 2
}
