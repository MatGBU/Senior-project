{
 "cells": [
  {
   "cell_type": "code",
   "execution_count": 5,
   "metadata": {},
   "outputs": [
    {
     "ename": "KeyError",
     "evalue": "'root'",
     "output_type": "error",
     "traceback": [
      "\u001b[0;31m---------------------------------------------------------------------------\u001b[0m",
      "\u001b[0;31mKeyError\u001b[0m                                  Traceback (most recent call last)",
      "Cell \u001b[0;32mIn [5], line 56\u001b[0m\n\u001b[1;32m     53\u001b[0m start_date \u001b[38;5;241m=\u001b[39m \u001b[38;5;124m'\u001b[39m\u001b[38;5;124m20231001\u001b[39m\u001b[38;5;124m'\u001b[39m\n\u001b[1;32m     54\u001b[0m end_date \u001b[38;5;241m=\u001b[39m \u001b[38;5;124m'\u001b[39m\u001b[38;5;124m20231003\u001b[39m\u001b[38;5;124m'\u001b[39m\n\u001b[0;32m---> 56\u001b[0m \u001b[43mautomate_queries_with_auth\u001b[49m\u001b[43m(\u001b[49m\u001b[43mstart_date\u001b[49m\u001b[43m,\u001b[49m\u001b[43m \u001b[49m\u001b[43mend_date\u001b[49m\u001b[43m,\u001b[49m\u001b[43m \u001b[49m\u001b[43musername\u001b[49m\u001b[43m,\u001b[49m\u001b[43m \u001b[49m\u001b[43mpassword\u001b[49m\u001b[43m)\u001b[49m\n",
      "Cell \u001b[0;32mIn [5], line 45\u001b[0m, in \u001b[0;36mautomate_queries_with_auth\u001b[0;34m(start_date, end_date, username, password)\u001b[0m\n\u001b[1;32m     42\u001b[0m data_dict \u001b[38;5;241m=\u001b[39m fetch_data_for_day(date_str, username, password)\n\u001b[1;32m     44\u001b[0m \u001b[38;5;66;03m# Save the data to CSV\u001b[39;00m\n\u001b[0;32m---> 45\u001b[0m \u001b[43msave_data_to_csv\u001b[49m\u001b[43m(\u001b[49m\u001b[43mdata_dict\u001b[49m\u001b[43m,\u001b[49m\u001b[43m \u001b[49m\u001b[43mdate_str\u001b[49m\u001b[43m)\u001b[49m\n\u001b[1;32m     47\u001b[0m \u001b[38;5;66;03m# Move to the next day\u001b[39;00m\n\u001b[1;32m     48\u001b[0m current_date \u001b[38;5;241m+\u001b[39m\u001b[38;5;241m=\u001b[39m timedelta(days\u001b[38;5;241m=\u001b[39m\u001b[38;5;241m1\u001b[39m)\n",
      "Cell \u001b[0;32mIn [5], line 28\u001b[0m, in \u001b[0;36msave_data_to_csv\u001b[0;34m(data_dict, date)\u001b[0m\n\u001b[1;32m     25\u001b[0m \u001b[38;5;28;01mdef\u001b[39;00m \u001b[38;5;21msave_data_to_csv\u001b[39m(data_dict, date):\n\u001b[1;32m     26\u001b[0m     \u001b[38;5;28;01mif\u001b[39;00m data_dict:\n\u001b[1;32m     27\u001b[0m         \u001b[38;5;66;03m# Convert the relevant part of the XML to a Pandas DataFrame\u001b[39;00m\n\u001b[0;32m---> 28\u001b[0m         df \u001b[38;5;241m=\u001b[39m pd\u001b[38;5;241m.\u001b[39mDataFrame(\u001b[43mdata_dict\u001b[49m\u001b[43m[\u001b[49m\u001b[38;5;124;43m'\u001b[39;49m\u001b[38;5;124;43mroot\u001b[39;49m\u001b[38;5;124;43m'\u001b[39;49m\u001b[43m]\u001b[49m[\u001b[38;5;124m'\u001b[39m\u001b[38;5;124mreport_data\u001b[39m\u001b[38;5;124m'\u001b[39m])  \u001b[38;5;66;03m# Adjust based on actual XML structure\u001b[39;00m\n\u001b[1;32m     29\u001b[0m         csv_filename \u001b[38;5;241m=\u001b[39m \u001b[38;5;124mf\u001b[39m\u001b[38;5;124m'\u001b[39m\u001b[38;5;124mgenfuelmix_\u001b[39m\u001b[38;5;132;01m{\u001b[39;00mdate\u001b[38;5;132;01m}\u001b[39;00m\u001b[38;5;124m.csv\u001b[39m\u001b[38;5;124m'\u001b[39m\n\u001b[1;32m     30\u001b[0m         df\u001b[38;5;241m.\u001b[39mto_csv(csv_filename, index\u001b[38;5;241m=\u001b[39m\u001b[38;5;28;01mFalse\u001b[39;00m)\n",
      "\u001b[0;31mKeyError\u001b[0m: 'root'"
     ]
    }
   ],
   "source": [
    "import requests\n",
    "from requests.auth import HTTPBasicAuth\n",
    "import xmltodict\n",
    "import pandas as pd\n",
    "from datetime import datetime, timedelta\n",
    "\n",
    "# Function to fetch data for a specific day with authentication\n",
    "def fetch_data_for_day(date, username, password):\n",
    "    # API endpoint with the specific date\n",
    "    url = f'https://webservices.iso-ne.com/api/v1.1/genfuelmix/day/{date}'\n",
    "    \n",
    "    # Make the API request with basic authentication\n",
    "    response = requests.get(url, auth=HTTPBasicAuth(username, password))\n",
    "    \n",
    "    # Check if the request was successful\n",
    "    if response.status_code == 200:\n",
    "        # Parse the XML response using xmltodict\n",
    "        data_dict = xmltodict.parse(response.content)\n",
    "        return data_dict\n",
    "    else:\n",
    "        print(f\"Failed to retrieve data for {date}. Status code: {response.status_code}\")\n",
    "        return None\n",
    "\n",
    "# Function to save data to CSV\n",
    "def save_data_to_csv(data_dict, date):\n",
    "    if data_dict:\n",
    "        # Convert the relevant part of the XML to a Pandas DataFrame\n",
    "        df = pd.DataFrame(data_dict['root']['report_data'])  # Adjust based on actual XML structure\n",
    "        csv_filename = f'genfuelmix_{date}.csv'\n",
    "        df.to_csv(csv_filename, index=False)\n",
    "        print(f\"Data for {date} saved to {csv_filename}\")\n",
    "\n",
    "# Main function to automate queries for a range of dates\n",
    "def automate_queries_with_auth(start_date, end_date, username, password):\n",
    "    current_date = datetime.strptime(start_date, \"%Y%m%d\")\n",
    "    end_date = datetime.strptime(end_date, \"%Y%m%d\")\n",
    "    \n",
    "    while current_date <= end_date:\n",
    "        date_str = current_date.strftime(\"%Y%m%d\")\n",
    "        \n",
    "        # Fetch data for the current day with authentication\n",
    "        data_dict = fetch_data_for_day(date_str, username, password)\n",
    "        \n",
    "        # Save the data to CSV\n",
    "        save_data_to_csv(data_dict, date_str)\n",
    "        \n",
    "        # Move to the next day\n",
    "        current_date += timedelta(days=1)\n",
    "\n",
    "# Example usage\n",
    "username = 'alean@bu.edu'\n",
    "password = 'Mq75eg8pxTBCEKY'\n",
    "start_date = '20231001'\n",
    "end_date = '20231003'\n",
    "\n",
    "automate_queries_with_auth(start_date, end_date, username, password)\n"
   ]
  }
 ],
 "metadata": {
  "kernelspec": {
   "display_name": "Python 3.10.6 64-bit",
   "language": "python",
   "name": "python3"
  },
  "language_info": {
   "codemirror_mode": {
    "name": "ipython",
    "version": 3
   },
   "file_extension": ".py",
   "mimetype": "text/x-python",
   "name": "python",
   "nbconvert_exporter": "python",
   "pygments_lexer": "ipython3",
   "version": "3.10.6"
  },
  "orig_nbformat": 4,
  "vscode": {
   "interpreter": {
    "hash": "7e1998ff7f8aa20ada591c520b972326324e5ea05489af9e422744c7c09f6dad"
   }
  }
 },
 "nbformat": 4,
 "nbformat_minor": 2
}
