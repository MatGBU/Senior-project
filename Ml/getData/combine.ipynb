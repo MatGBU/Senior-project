{
 "cells": [
  {
   "cell_type": "code",
   "execution_count": 6,
   "metadata": {},
   "outputs": [
    {
     "name": "stdout",
     "output_type": "stream",
     "text": [
      "BeginDate column before conversion:\n",
      "0    2021-10-01 00:05:56-04:00\n",
      "1    2021-10-01 00:26:32-04:00\n",
      "2    2021-10-01 00:34:20-04:00\n",
      "3    2021-10-01 00:39:58-04:00\n",
      "4    2021-10-01 00:52:08-04:00\n",
      "Name: BeginDate, dtype: object\n",
      "BeginDate column after conversion:\n",
      "0   2021-10-01 04:05:56+00:00\n",
      "1   2021-10-01 04:26:32+00:00\n",
      "2   2021-10-01 04:34:20+00:00\n",
      "3   2021-10-01 04:39:58+00:00\n",
      "4   2021-10-01 04:52:08+00:00\n",
      "Name: BeginDate, dtype: datetime64[ns, UTC]\n",
      "Data combined and saved to 'combined_fuel_weather_data.csv'\n"
     ]
    }
   ],
   "source": [
    "import pandas as pd\n",
    "\n",
    "# Load the weather data CSV\n",
    "weather_data = pd.read_csv('Year_weather.csv')  # Replace with the actual file path\n",
    "\n",
    "# Load the fuel mix data CSV\n",
    "fuel_data = pd.read_csv('genfuelmix_aggregatedyear.csv')  # Replace with the actual file path\n",
    "\n",
    "# Convert 'datetime' in weather data to datetime format\n",
    "weather_data['datetime'] = pd.to_datetime(weather_data['datetime'])\n",
    "\n",
    "# Convert 'datetime' in weather data to UTC to match the fuel data time zones\n",
    "if weather_data['datetime'].dt.tz is None:\n",
    "    weather_data['datetime'] = weather_data['datetime'].dt.tz_localize('UTC')\n",
    "else:\n",
    "    weather_data['datetime'] = weather_data['datetime'].dt.tz_convert('UTC')\n",
    "\n",
    "# Print the 'BeginDate' column for inspection\n",
    "print(\"BeginDate column before conversion:\")\n",
    "print(fuel_data['BeginDate'].head())\n",
    "\n",
    "# Convert 'BeginDate' in fuel data to datetime format with explicit UTC conversion\n",
    "fuel_data['BeginDate'] = pd.to_datetime(fuel_data['BeginDate'], errors='coerce', utc=True)\n",
    "\n",
    "# Print the 'BeginDate' column after conversion to check if conversion was successful\n",
    "print(\"BeginDate column after conversion:\")\n",
    "print(fuel_data['BeginDate'].head())\n",
    "\n",
    "# Check for any invalid dates (if any)\n",
    "invalid_dates = fuel_data[fuel_data['BeginDate'].isna()]\n",
    "if not invalid_dates.empty:\n",
    "    print(\"Invalid 'BeginDate' entries found:\")\n",
    "    print(invalid_dates)\n",
    "    # Optionally, drop rows with invalid 'BeginDate'\n",
    "    fuel_data = fuel_data.dropna(subset=['BeginDate'])\n",
    "\n",
    "# Round 'BeginDate' in the fuel data to the nearest hour\n",
    "fuel_data['rounded_hour'] = fuel_data['BeginDate'].dt.round('h')\n",
    "\n",
    "# Sort both DataFrames by time for 'merge_asof' to work\n",
    "fuel_data = fuel_data.sort_values('rounded_hour')\n",
    "weather_data = weather_data.sort_values('datetime')\n",
    "\n",
    "# Perform the merge_asof to match the nearest hour in the weather data for each fuel data entry\n",
    "combined_data = pd.merge_asof(fuel_data, weather_data, left_on='rounded_hour', right_on='datetime', direction='backward')\n",
    "\n",
    "# Drop the 'rounded_hour' column since it's no longer needed\n",
    "combined_data = combined_data.drop(columns=['rounded_hour'])\n",
    "combined_data = combined_data.sort_values('BeginDate')\n",
    "\n",
    "# Save the combined data to a new CSV file\n",
    "combined_data.to_csv('combined_fuel_weather_data.csv', index=False)\n",
    "\n",
    "print(\"Data combined and saved to 'combined_fuel_weather_data.csv'\")"
   ]
  }
 ],
 "metadata": {
  "kernelspec": {
   "display_name": "Python 3.10.6 64-bit",
   "language": "python",
   "name": "python3"
  },
  "language_info": {
   "codemirror_mode": {
    "name": "ipython",
    "version": 3
   },
   "file_extension": ".py",
   "mimetype": "text/x-python",
   "name": "python",
   "nbconvert_exporter": "python",
   "pygments_lexer": "ipython3",
   "version": "3.10.6"
  },
  "orig_nbformat": 4,
  "vscode": {
   "interpreter": {
    "hash": "7e1998ff7f8aa20ada591c520b972326324e5ea05489af9e422744c7c09f6dad"
   }
  }
 },
 "nbformat": 4,
 "nbformat_minor": 2
}
