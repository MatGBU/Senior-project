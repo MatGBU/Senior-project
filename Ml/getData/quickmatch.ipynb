{
 "cells": [
  {
   "cell_type": "code",
   "execution_count": 1,
   "metadata": {},
   "outputs": [
    {
     "name": "stderr",
     "output_type": "stream",
     "text": [
      "C:\\Users\\Avishai\\AppData\\Local\\Temp\\ipykernel_34656\\752283661.py:19: FutureWarning: In a future version of pandas, parsing datetimes with mixed time zones will raise an error unless `utc=True`. Please specify `utc=True` to opt in to the new behaviour and silence this warning. To create a `Series` with mixed offsets and `object` dtype, please use `apply` and `datetime.datetime.strptime`\n",
      "  merged_df['BeginDate'] = pd.to_datetime(merged_df['BeginDate'])\n"
     ]
    },
    {
     "name": "stdout",
     "output_type": "stream",
     "text": [
      "Files merged and saved to merged_output.csv\n"
     ]
    }
   ],
   "source": [
    "import pandas as pd\n",
    "\n",
    "# File paths for the two CSV files\n",
    "file1 = 'Updated.csv'\n",
    "file2 = 'genfuelmix_aggregatedyear.csv'\n",
    "output_file = 'merged_output.csv'\n",
    "\n",
    "# Read both CSV files into DataFrames\n",
    "df1 = pd.read_csv(file1)\n",
    "df2 = pd.read_csv(file2)\n",
    "\n",
    "# Concatenate the two DataFrames\n",
    "merged_df = pd.concat([df1, df2])\n",
    "\n",
    "# Drop duplicate rows based on 'BeginDate' and keep the first occurrence\n",
    "merged_df = merged_df.drop_duplicates(subset=['BeginDate'], keep='first')\n",
    "\n",
    "# Convert 'BeginDate' to datetime to ensure proper ordering\n",
    "merged_df['BeginDate'] = pd.to_datetime(merged_df['BeginDate'])\n",
    "\n",
    "# Reorder the DataFrame by 'BeginDate'\n",
    "merged_df = merged_df.sort_values(by='BeginDate')\n",
    "\n",
    "# Reorder columns to ensure they are in the correct order (optional if needed)\n",
    "columns_order = ['BeginDate', 'Coal', 'Hydro', 'Natural Gas', 'Nuclear', 'Oil', 'Other', 'Landfill Gas', 'Refuse', 'Solar', 'Wind', 'Wood']\n",
    "merged_df = merged_df[columns_order]\n",
    "\n",
    "# Save the merged DataFrame to a CSV file\n",
    "merged_df.to_csv(output_file, index=False)\n",
    "\n",
    "print(f\"Files merged and saved to {output_file}\")"
   ]
  }
 ],
 "metadata": {
  "kernelspec": {
   "display_name": "Python 3",
   "language": "python",
   "name": "python3"
  },
  "language_info": {
   "codemirror_mode": {
    "name": "ipython",
    "version": 3
   },
   "file_extension": ".py",
   "mimetype": "text/x-python",
   "name": "python",
   "nbconvert_exporter": "python",
   "pygments_lexer": "ipython3",
   "version": "3.11.9"
  }
 },
 "nbformat": 4,
 "nbformat_minor": 2
}
