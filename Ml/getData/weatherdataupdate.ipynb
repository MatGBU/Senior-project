{
 "cells": [
  {
   "cell_type": "code",
   "execution_count": 7,
   "metadata": {},
   "outputs": [
    {
     "name": "stdout",
     "output_type": "stream",
     "text": [
      "Weather data from 2024-10-02 to 2024-10-25 has been appended to 'Year_weather.csv'\n"
     ]
    }
   ],
   "source": [
    "import requests\n",
    "import csv\n",
    "import pandas as pd\n",
    "from datetime import datetime, timedelta\n",
    "\n",
    "# File path for the existing weather data\n",
    "csv_filename = 'Year_weather.csv'\n",
    "\n",
    "# Step 1: Load the CSV and find the latest date\n",
    "def get_latest_date_from_csv(file_path):\n",
    "    try:\n",
    "        df = pd.read_csv(file_path)\n",
    "        df['datetime'] = pd.to_datetime(df['datetime'])  # Ensure the datetime column is in datetime format\n",
    "        latest_date = df['datetime'].max().date()  # Get the latest date in the file\n",
    "        return latest_date\n",
    "    except FileNotFoundError:\n",
    "        # If the file doesn't exist, return None to indicate no previous data\n",
    "        return None\n",
    "\n",
    "# Step 2: Perform the API request from the latest date to today's date\n",
    "def fetch_weather_data(start_date, end_date, output_file):\n",
    "    # Format the dates for the API request (YYYY-MM-DD)\n",
    "    start_date_str = start_date.strftime('%Y-%m-%d')\n",
    "    end_date_str = end_date.strftime('%Y-%m-%d')\n",
    "\n",
    "    # Weather API URL with dynamic dates\n",
    "    url = f\"https://weather.visualcrossing.com/VisualCrossingWebServices/rest/services/timeline/Boston%2CUnited%20States/{start_date_str}/{end_date_str}?unitGroup=us&elements=datetime%2Ctemp%2Cdew%2Chumidity%2Cprecip%2Cpreciptype%2Csnow%2Csnowdepth%2Cwindgust%2Cwindspeed%2Cwinddir%2Cpressure%2Ccloudcover%2Csolarradiation%2Csolarenergy%2Cuvindex%2Csevererisk&include=hours&key=SRGBWC4W94EFX6RMJXBC4L6EN&contentType=csv\"\n",
    "    \n",
    "    response = requests.get(url)\n",
    "\n",
    "    if response.status_code != 200:\n",
    "        print('Unexpected Status code:', response.status_code)\n",
    "        return\n",
    "\n",
    "    # Append the new data to the existing CSV file\n",
    "    with open(output_file, mode='a', newline='') as file:  # Open in append mode\n",
    "        writer = csv.writer(file)\n",
    "        csv_reader = csv.reader(response.text.splitlines(), delimiter=',', quotechar='\"')\n",
    "\n",
    "        # Skip the first row (header)\n",
    "        next(csv_reader)\n",
    "\n",
    "        # Write the remaining rows to the file\n",
    "        for row in csv_reader:\n",
    "            writer.writerow(row)\n",
    "\n",
    "    print(f\"Weather data from {start_date_str} to {end_date_str} has been appended to '{output_file}'\")\n",
    "# Step 3: Main function to coordinate the process\n",
    "def main():\n",
    "    # Get today's date\n",
    "    today = datetime.today().date()\n",
    "\n",
    "    # Get the latest date from the existing CSV file\n",
    "    latest_date = get_latest_date_from_csv(csv_filename)\n",
    "\n",
    "    if latest_date is None:\n",
    "        # If no existing data, start from a default date (e.g., one year ago)\n",
    "        start_date = today - timedelta(days=365)\n",
    "    else:\n",
    "        # Start fetching data from the day after the latest date in the CSV\n",
    "        start_date = latest_date + timedelta(days=1)\n",
    "\n",
    "    # Fetch and append weather data from the latest date to today\n",
    "    if start_date <= today:\n",
    "        fetch_weather_data(start_date, today, csv_filename)\n",
    "    else:\n",
    "        print(\"No new data to fetch, the CSV is already up to date.\")\n",
    "\n",
    "# Run the main function\n",
    "if __name__ == \"__main__\":\n",
    "    main()\n"
   ]
  }
 ],
 "metadata": {
  "kernelspec": {
   "display_name": "Python 3",
   "language": "python",
   "name": "python3"
  },
  "language_info": {
   "codemirror_mode": {
    "name": "ipython",
    "version": 3
   },
   "file_extension": ".py",
   "mimetype": "text/x-python",
   "name": "python",
   "nbconvert_exporter": "python",
   "pygments_lexer": "ipython3",
   "version": "3.11.9"
  }
 },
 "nbformat": 4,
 "nbformat_minor": 2
}
